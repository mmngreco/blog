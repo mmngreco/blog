{
 "cells": [
  {
   "cell_type": "markdown",
   "metadata": {},
   "source": [
    "<!-- PELICAN_BEGIN_SUMMARY -->\n",
    "\n",
    "[![Binder](https://mybinder.org/badge.svg)](https://mybinder.org/v2/gh/mmngreco/mmngreco.github.io-source/master/?filepath=content/downloads/notebooks/competencia.ipynb)\n",
    "\n",
    "Podéis acceder al notebook [aquí](https://github.com/mmngreco/mmngreco.github.io-source/blob/master/content/downloads/notebooks/competencia.ipynb). También podéis ejecutar el notebook online [aquí](https://mybinder.org/v2/gh/mmngreco/mmngreco.github.io-source/master/?filepath=content/downloads/notebooks/competencia.ipynb) o desde el badge al inicio del post. Si veis cualquier error o sugerencia, se aceptan [PR](https://github.com/mmngreco/mmngreco.github.io-source/pulls)! ;-)\n",
    "\n",
    "\n",
    "# Introducción\n",
    "\n",
    "Después de mucho tiempo sin escribir, he decidido retomar la divulgación con algo que me parece muy útil, sobre todo durante la carrera me sirvió de gran ayuda, me refiero al cálculo simbólico en Python!\n",
    "\n",
    "Concretamente, en este post resuelvo un ejercicio muy común en Microeconomía, un mercado en competencia perfecta con varios paises con diferentes tecnologías (costes).\n",
    "\n",
    "<!-- PELICAN_END_SUMMARY -->\n",
    "\n",
    "# Mercado Mundial Competitivo\n",
    "\n",
    "Supongamos un mercado mundial competitivo _[1]_, por un lado tenemos la oferta de cada una de la empresas que forman el mercado de cada país y por otro la demanda mundial.\n",
    "\n",
    "_[1]: Esto implica que los productores son precio-aceptantes, es decir, que el precio es una variable exógena para los productores._\n",
    "\n",
    "\n",
    "## La Oferta\n",
    "\n",
    "Supongamos que la oferta está formada por 3 países con tecnologías diferentes, en cada país hay $N$ empresas cuya tecnología está definida por su curva de costes, como muestra la tabla.\n",
    "\n",
    "| &nbsp;&nbsp;&nbsp;&nbsp;País&nbsp;&nbsp;&nbsp;&nbsp;  |&nbsp;&nbsp;&nbsp;&nbsp;N empresas&nbsp;&nbsp;&nbsp;&nbsp;|&nbsp;&nbsp;&nbsp;&nbsp;Costes unitarios $C(q_i)$&nbsp;&nbsp;&nbsp;&nbsp;       |\n",
    "|:---:  |:--------:|:-----------------------------: |\n",
    "|A      | 100      |$= \\frac{q_a^2}{2} + 2q_a + 10$ |\n",
    "|B      |  50      |$= \\frac{q_b^2}{10} + 3q_b + 12$|\n",
    "|C      | 100      |$= \\frac{q_c^2}{2} + 2$         |\n",
    "\n",
    "## La Demanda\n",
    "\n",
    "Por otra parte, los consumidores tienen una única demanda mundial y queda representada con la siguiente expresión:\n",
    "\n",
    "\\begin{equation}\n",
    "Q^D = 98650 - 19350 P\n",
    "\\end{equation}\n",
    "\n",
    "\n"
   ]
  },
  {
   "cell_type": "markdown",
   "metadata": {},
   "source": [
    "## Se pide\n",
    "\n",
    "En un ejercicio típico nos suelen pedir hallar:\n",
    "\n",
    "- Las cantidades producidas ($q_i$) de la empresa de cada país.\n",
    "- Beneficios ($\\pi_i$)\n",
    "- Precio de Equilibrio ($p$)\n",
    "\n"
   ]
  },
  {
   "cell_type": "code",
   "execution_count": 1,
   "metadata": {},
   "outputs": [],
   "source": [
    "from IPython.display import Markdown\n",
    "import numpy as np\n",
    "from sympy import *\n",
    "import matplotlib.pyplot as plt"
   ]
  },
  {
   "cell_type": "code",
   "execution_count": 2,
   "metadata": {},
   "outputs": [],
   "source": [
    "init_printing()"
   ]
  },
  {
   "cell_type": "code",
   "execution_count": 3,
   "metadata": {},
   "outputs": [],
   "source": [
    "%matplotlib inline"
   ]
  },
  {
   "cell_type": "markdown",
   "metadata": {},
   "source": [
    "Muy bien definido el problema, lo primero que haremos será crear las variables necesarias para resolverlo, esto lo hacemos con la función `symbols`:"
   ]
  },
  {
   "cell_type": "code",
   "execution_count": 4,
   "metadata": {},
   "outputs": [],
   "source": [
    "# descomentar para ver la ayuda.\n",
    "# help(symbols)"
   ]
  },
  {
   "cell_type": "code",
   "execution_count": 5,
   "metadata": {},
   "outputs": [],
   "source": [
    "# Se crean las variables necesarias\n",
    "qa, qb, qc, q, Qd, P, pi, Q = symbols('q_a q_b q_c q Q^d P p_i Q')"
   ]
  },
  {
   "cell_type": "markdown",
   "metadata": {},
   "source": [
    "## COSTES\n",
    "\n",
    "Una vez tenemos las variables vamos a definir la funciones de costes utilizando las variables anteriores."
   ]
  },
  {
   "cell_type": "code",
   "execution_count": 6,
   "metadata": {},
   "outputs": [
    {
     "data": {
      "image/png": "[encoded data removed]",
      "text/latex": [
       "$$\\frac{q_{a}^{2}}{6} + 2 q_{a} + 10$$"
      ],
      "text/plain": [
       "  2            \n",
       "qₐ             \n",
       "─── + 2⋅qₐ + 10\n",
       " 6             "
      ]
     },
     "execution_count": 6,
     "metadata": {},
     "output_type": "execute_result"
    }
   ],
   "source": [
    "costes_a = qa ** 2 / 6 + 2 * qa + 10\n",
    "costes_a"
   ]
  },
  {
   "cell_type": "code",
   "execution_count": 7,
   "metadata": {},
   "outputs": [
    {
     "data": {
      "image/png": "[encoded data removed]",
      "text/latex": [
       "$$\\frac{q_{b}^{2}}{10} + 3 q_{b} + 12$$"
      ],
      "text/plain": [
       "   2             \n",
       "q_b              \n",
       "──── + 3⋅q_b + 12\n",
       " 10              "
      ]
     },
     "execution_count": 7,
     "metadata": {},
     "output_type": "execute_result"
    }
   ],
   "source": [
    "costes_b = qb ** 2 / 10 + 3 * qb + 12\n",
    "costes_b"
   ]
  },
  {
   "cell_type": "code",
   "execution_count": 8,
   "metadata": {},
   "outputs": [
    {
     "data": {
      "image/png": "[encoded data removed]",
      "text/latex": [
       "$$\\frac{q_{c}^{2}}{2} + 2$$"
      ],
      "text/plain": [
       "   2    \n",
       "q_c     \n",
       "──── + 2\n",
       " 2      "
      ]
     },
     "execution_count": 8,
     "metadata": {},
     "output_type": "execute_result"
    }
   ],
   "source": [
    "costes_c = qc ** 2 / 2 + 2\n",
    "costes_c"
   ]
  },
  {
   "cell_type": "markdown",
   "metadata": {},
   "source": [
    "## DEMANDA\n",
    "\n",
    "Hacemos lo mismo con la demanda."
   ]
  },
  {
   "cell_type": "code",
   "execution_count": 9,
   "metadata": {},
   "outputs": [
    {
     "data": {
      "image/png": "[encoded data removed]",
      "text/latex": [
       "$$- 19350 P + 98650$$"
      ],
      "text/plain": [
       "-19350⋅P + 98650"
      ]
     },
     "execution_count": 9,
     "metadata": {},
     "output_type": "execute_result"
    }
   ],
   "source": [
    "q_dda = 98650 - 19350 * P\n",
    "q_dda"
   ]
  },
  {
   "cell_type": "code",
   "execution_count": 10,
   "metadata": {},
   "outputs": [
    {
     "data": {
      "image/png": "[encoded data removed]",
      "text/latex": [
       "$$- \\frac{Q}{19350} + \\frac{1973}{387}$$"
      ],
      "text/plain": [
       "    Q     1973\n",
       "- ───── + ────\n",
       "  19350   387 "
      ]
     },
     "execution_count": 10,
     "metadata": {},
     "output_type": "execute_result"
    }
   ],
   "source": [
    "p_dda = solve(Eq(Q, q_dda), P)[-1]\n",
    "p_dda"
   ]
  },
  {
   "cell_type": "markdown",
   "metadata": {},
   "source": [
    "## OFERTA\n",
    "\n",
    "y por último con la oferta."
   ]
  },
  {
   "cell_type": "code",
   "execution_count": 11,
   "metadata": {},
   "outputs": [
    {
     "data": {
      "image/png": "[encoded data removed]",
      "text/latex": [
       "$$100 q_{a} + 50 q_{b} + 100 q_{c}$$"
      ],
      "text/plain": [
       "100⋅qₐ + 50⋅q_b + 100⋅q_c"
      ]
     },
     "execution_count": 11,
     "metadata": {},
     "output_type": "execute_result"
    }
   ],
   "source": [
    "q_oferta = 100 * qa + 50 * qb + 100 * qc\n",
    "q_oferta"
   ]
  },
  {
   "cell_type": "markdown",
   "metadata": {},
   "source": [
    "## Resolución\n",
    "\n",
    "Una vez definidas todas las funciones ya podemos empezar a resolver el problema aplicando la teoría económica y un poco de programación.\n",
    "\n",
    "Bien, a partir de los costes podemos calcular los costes marginales, como las empresas son precio-aceptantes se cumple que $P=C'$. Para esto tenemos que calcular la primera derivada de la curva de costes de cada tipo empresa, lo hacemos usando el método `diff()` de las expresiones de los costes.\n",
    "\n",
    "Por ejemplo, la derivada de los costes de las empresas del país A son:"
   ]
  },
  {
   "cell_type": "code",
   "execution_count": 12,
   "metadata": {},
   "outputs": [],
   "source": [
    "# descomentar para ver la ayuda.\n",
    "# help(diff)"
   ]
  },
  {
   "cell_type": "code",
   "execution_count": 13,
   "metadata": {},
   "outputs": [
    {
     "data": {
      "image/png": "[encoded data removed]",
      "text/latex": [
       "$$\\frac{q_{a}}{3} + 2$$"
      ],
      "text/plain": [
       "qₐ    \n",
       "── + 2\n",
       "3     "
      ]
     },
     "execution_count": 13,
     "metadata": {},
     "output_type": "execute_result"
    }
   ],
   "source": [
    "coste_marginal_a = costes_a.diff(qa)\n",
    "coste_marginal_a"
   ]
  },
  {
   "cell_type": "code",
   "execution_count": 14,
   "metadata": {},
   "outputs": [
    {
     "data": {
      "image/png": "[encoded data removed]",
      "text/latex": [
       "$$\\frac{q_{b}}{5} + 3$$"
      ],
      "text/plain": [
       "q_b    \n",
       "─── + 3\n",
       " 5     "
      ]
     },
     "execution_count": 14,
     "metadata": {},
     "output_type": "execute_result"
    }
   ],
   "source": [
    "coste_marginal_b = costes_b.diff(qb)\n",
    "coste_marginal_b"
   ]
  },
  {
   "cell_type": "code",
   "execution_count": 15,
   "metadata": {},
   "outputs": [
    {
     "data": {
      "image/png": "[encoded data removed]",
      "text/latex": [
       "$$q_{c}$$"
      ],
      "text/plain": [
       "q_c"
      ]
     },
     "execution_count": 15,
     "metadata": {},
     "output_type": "execute_result"
    }
   ],
   "source": [
    "coste_marginal_c = costes_c.diff(qc)\n",
    "coste_marginal_c"
   ]
  },
  {
   "cell_type": "code",
   "execution_count": 16,
   "metadata": {},
   "outputs": [],
   "source": [
    "coste_list = [costes_a, costes_b, costes_c]\n",
    "q_list = [qa, qb, qc]\n",
    "pais_list = ['a', 'b', 'c']\n",
    "coste_marginal_list = [coste_marginal_a, coste_marginal_b, coste_marginal_c]"
   ]
  },
  {
   "cell_type": "markdown",
   "metadata": {},
   "source": [
    "Lista de costes marginales:"
   ]
  },
  {
   "cell_type": "code",
   "execution_count": 17,
   "metadata": {},
   "outputs": [
    {
     "data": {
      "image/png": "[encoded data removed]",
      "text/latex": [
       "$$\\left [ \\frac{q_{a}}{3} + 2, \\quad \\frac{q_{b}}{5} + 3, \\quad q_{c}\\right ]$$"
      ],
      "text/plain": [
       "⎡qₐ      q_b         ⎤\n",
       "⎢── + 2, ─── + 3, q_c⎥\n",
       "⎣3        5          ⎦"
      ]
     },
     "execution_count": 17,
     "metadata": {},
     "output_type": "execute_result"
    }
   ],
   "source": [
    "coste_marginal_list"
   ]
  },
  {
   "cell_type": "markdown",
   "metadata": {},
   "source": [
    "En este punto ya tenemos los costes marginales de la empresas de cada país, lo usaremos para hallar la cantidad que se intercambiará en el equilibrio. Para ello tenemos que igualar los costes marginales y el precio. Para esto vamos a usar una función que nos permite igualar dos expresiones `Eq()`. Con la igualdad podremos despejar la variable que nos interesa ($P$). Para resolver una equación usaremos `solve()` y por último necesitaremos sustituir el valor de `P` en la oferta para tener la cantidad. Iremos por partes, primero igualamos $P = C'_a$"
   ]
  },
  {
   "cell_type": "code",
   "execution_count": 18,
   "metadata": {},
   "outputs": [],
   "source": [
    "# Descomentar para ver la ayuda.\n",
    "# help(Eq)\n",
    "# help(solve)"
   ]
  },
  {
   "cell_type": "code",
   "execution_count": 19,
   "metadata": {},
   "outputs": [
    {
     "data": {
      "image/png": "[encoded data removed]",
      "text/latex": [
       "$$P = \\frac{q_{a}}{3} + 2$$"
      ],
      "text/plain": [
       "    qₐ    \n",
       "P = ── + 2\n",
       "    3     "
      ]
     },
     "execution_count": 19,
     "metadata": {},
     "output_type": "execute_result"
    }
   ],
   "source": [
    "precio_igual_cmg_a = Eq(P, coste_marginal_a)\n",
    "precio_igual_cmg_a"
   ]
  },
  {
   "cell_type": "markdown",
   "metadata": {},
   "source": [
    "Despejando de la equación anterior $q_a$ nos queda $q_a(P)$"
   ]
  },
  {
   "cell_type": "code",
   "execution_count": 20,
   "metadata": {},
   "outputs": [
    {
     "data": {
      "image/png": "[encoded data removed]",
      "text/latex": [
       "$$3 P - 6$$"
      ],
      "text/plain": [
       "3⋅P - 6"
      ]
     },
     "execution_count": 20,
     "metadata": {},
     "output_type": "execute_result"
    }
   ],
   "source": [
    "solucion_a = solve(precio_igual_cmg_a, qa)[-1]\n",
    "solucion_a"
   ]
  },
  {
   "cell_type": "markdown",
   "metadata": {},
   "source": [
    "Sustituyendo $q_a$ en la oferta total"
   ]
  },
  {
   "cell_type": "code",
   "execution_count": 21,
   "metadata": {},
   "outputs": [
    {
     "data": {
      "image/png": "[encoded data removed]",
      "text/latex": [
       "$$300 P + 50 q_{b} + 100 q_{c} - 600$$"
      ],
      "text/plain": [
       "300⋅P + 50⋅q_b + 100⋅q_c - 600"
      ]
     },
     "execution_count": 21,
     "metadata": {},
     "output_type": "execute_result"
    }
   ],
   "source": [
    "q_oferta_parcial = q_oferta.subs(qa, solucion_a)\n",
    "q_oferta_parcial"
   ]
  },
  {
   "cell_type": "markdown",
   "metadata": {},
   "source": [
    "Repetimos el proceso con la empresa b, $P = C'_b$"
   ]
  },
  {
   "cell_type": "code",
   "execution_count": 22,
   "metadata": {},
   "outputs": [
    {
     "data": {
      "image/png": "[encoded data removed]",
      "text/latex": [
       "$$P = \\frac{q_{b}}{5} + 3$$"
      ],
      "text/plain": [
       "    q_b    \n",
       "P = ─── + 3\n",
       "     5     "
      ]
     },
     "execution_count": 22,
     "metadata": {},
     "output_type": "execute_result"
    }
   ],
   "source": [
    "precio_igual_cmg_b = Eq(P, coste_marginal_b)\n",
    "precio_igual_cmg_b"
   ]
  },
  {
   "cell_type": "markdown",
   "metadata": {},
   "source": [
    "Despejamos $q_b$"
   ]
  },
  {
   "cell_type": "code",
   "execution_count": 23,
   "metadata": {},
   "outputs": [
    {
     "data": {
      "image/png": "[encoded data removed]",
      "text/latex": [
       "$$5 P - 15$$"
      ],
      "text/plain": [
       "5⋅P - 15"
      ]
     },
     "execution_count": 23,
     "metadata": {},
     "output_type": "execute_result"
    }
   ],
   "source": [
    "solucion_b = solve(precio_igual_cmg_b, qb)[-1]\n",
    "solucion_b"
   ]
  },
  {
   "cell_type": "markdown",
   "metadata": {},
   "source": [
    "Sustituimos $q_b$ de la oferta parcial anterior"
   ]
  },
  {
   "cell_type": "code",
   "execution_count": 24,
   "metadata": {},
   "outputs": [
    {
     "data": {
      "image/png": "[encoded data removed]",
      "text/latex": [
       "$$550 P + 100 q_{c} - 1350$$"
      ],
      "text/plain": [
       "550⋅P + 100⋅q_c - 1350"
      ]
     },
     "execution_count": 24,
     "metadata": {},
     "output_type": "execute_result"
    }
   ],
   "source": [
    "q_oferta_parcial = q_oferta_parcial.subs(qb, solucion_b)\n",
    "q_oferta_parcial"
   ]
  },
  {
   "cell_type": "markdown",
   "metadata": {},
   "source": [
    "Lo mismo con la última empresa $q_c$"
   ]
  },
  {
   "cell_type": "code",
   "execution_count": 25,
   "metadata": {},
   "outputs": [
    {
     "data": {
      "image/png": "[encoded data removed]",
      "text/latex": [
       "$$P = q_{c}$$"
      ],
      "text/plain": [
       "P = q_c"
      ]
     },
     "execution_count": 25,
     "metadata": {},
     "output_type": "execute_result"
    }
   ],
   "source": [
    "precio_igual_cmg_c = Eq(P, coste_marginal_c)\n",
    "precio_igual_cmg_c"
   ]
  },
  {
   "cell_type": "markdown",
   "metadata": {},
   "source": [
    "Despejamos $q_c$"
   ]
  },
  {
   "cell_type": "code",
   "execution_count": 26,
   "metadata": {},
   "outputs": [
    {
     "data": {
      "image/png": "[encoded data removed]",
      "text/latex": [
       "$$P$$"
      ],
      "text/plain": [
       "P"
      ]
     },
     "execution_count": 26,
     "metadata": {},
     "output_type": "execute_result"
    }
   ],
   "source": [
    "solucion_c = solve(precio_igual_cmg_c, qc)[-1]\n",
    "solucion_c"
   ]
  },
  {
   "cell_type": "markdown",
   "metadata": {},
   "source": [
    "Sustituimos $q_c$ en la oferta parcial anterior"
   ]
  },
  {
   "cell_type": "code",
   "execution_count": 27,
   "metadata": {},
   "outputs": [
    {
     "data": {
      "image/png": "[encoded data removed]",
      "text/latex": [
       "$$650 P - 1350$$"
      ],
      "text/plain": [
       "650⋅P - 1350"
      ]
     },
     "execution_count": 27,
     "metadata": {},
     "output_type": "execute_result"
    }
   ],
   "source": [
    "q_oferta_parcial = q_oferta_parcial.subs(qc, solucion_c)\n",
    "q_oferta_parcial"
   ]
  },
  {
   "cell_type": "code",
   "execution_count": 28,
   "metadata": {},
   "outputs": [
    {
     "name": "stdout",
     "output_type": "stream",
     "text": [
      "300*P + 50*q_b + 100*q_c - 600\n",
      "550*P + 100*q_c - 1350\n",
      "650*P - 1350\n"
     ]
    }
   ],
   "source": [
    "# Nota: ese proceso se podria generalizar.\n",
    "# alternativamente lo podemos hacer de forma recursiva con un bucle\n",
    "q_oferta_tmp = q_oferta.copy()\n",
    "for i in range(len(coste_list)):\n",
    "    q_oferta_tmp = q_oferta_tmp.subs(q_list[i], solve(Eq(P, coste_marginal_list[i]), q_list[i])[-1])\n",
    "    print(q_oferta_tmp)"
   ]
  },
  {
   "cell_type": "markdown",
   "metadata": {},
   "source": [
    "En este punto ya tenemos nuestra oferta total que sólo depende de los precios."
   ]
  },
  {
   "cell_type": "code",
   "execution_count": 29,
   "metadata": {},
   "outputs": [],
   "source": [
    "q_oferta_final = q_oferta_parcial"
   ]
  },
  {
   "cell_type": "code",
   "execution_count": 30,
   "metadata": {},
   "outputs": [
    {
     "data": {
      "image/png": "[encoded data removed]",
      "text/latex": [
       "$$650 P - 1350$$"
      ],
      "text/plain": [
       "650⋅P - 1350"
      ]
     },
     "execution_count": 30,
     "metadata": {},
     "output_type": "execute_result"
    }
   ],
   "source": [
    "q_oferta_final"
   ]
  },
  {
   "cell_type": "markdown",
   "metadata": {},
   "source": [
    "Resolvemos la equación anterior y obtenemos $P$"
   ]
  },
  {
   "cell_type": "code",
   "execution_count": 31,
   "metadata": {},
   "outputs": [
    {
     "data": {
      "image/png": "[encoded data removed]",
      "text/latex": [
       "$$5$$"
      ],
      "text/plain": [
       "5"
      ]
     },
     "execution_count": 31,
     "metadata": {},
     "output_type": "execute_result"
    }
   ],
   "source": [
    "precio_equilibrio = solve(Eq(q_dda, q_oferta_final), P)[-1]\n",
    "precio_equilibrio"
   ]
  },
  {
   "cell_type": "markdown",
   "metadata": {},
   "source": [
    "Sustituyendo $P$ en la oferta final tenemos $Q$"
   ]
  },
  {
   "cell_type": "code",
   "execution_count": 32,
   "metadata": {},
   "outputs": [
    {
     "data": {
      "image/png": "[encoded data removed]",
      "text/latex": [
       "$$1900$$"
      ],
      "text/plain": [
       "1900"
      ]
     },
     "execution_count": 32,
     "metadata": {},
     "output_type": "execute_result"
    }
   ],
   "source": [
    "q_equilibrio = q_oferta_final.subs(P, precio_equilibrio)\n",
    "q_equilibrio"
   ]
  },
  {
   "cell_type": "markdown",
   "metadata": {},
   "source": [
    "Como se tiene que cumplir $Q^S = Q^D$"
   ]
  },
  {
   "cell_type": "code",
   "execution_count": 33,
   "metadata": {},
   "outputs": [
    {
     "data": {
      "image/png": "[encoded data removed]",
      "text/latex": [
       "$$1900$$"
      ],
      "text/plain": [
       "1900"
      ]
     },
     "execution_count": 33,
     "metadata": {},
     "output_type": "execute_result"
    }
   ],
   "source": [
    "q_dda.subs(P, precio_equilibrio)"
   ]
  },
  {
   "cell_type": "markdown",
   "metadata": {},
   "source": [
    "## Beneficio\n",
    "\n",
    "El beneficio de empresa del país $_i$ se puede calcular cómo \n",
    "\n",
    "\\begin{equation}\n",
    "\\pi_i = IT - CT\\\\\n",
    "\\pi_i = p*q_i - c_i(q_i)\n",
    "\\end{equation}\n",
    "\n",
    "Necesitamos conocer la cantidad que produce individualmente cada empresa $q_i$, pero hemos dicho que las empresas son precio-aceptantes, por lo que podemos sustituir el precio que ahora conocemos en la función de coste marignal y obtener las cantidades que produce cada empresa."
   ]
  },
  {
   "cell_type": "code",
   "execution_count": 34,
   "metadata": {},
   "outputs": [
    {
     "data": {
      "image/png": "[encoded data removed]",
      "text/latex": [
       "$$5 = \\frac{q_{a}}{3} + 2$$"
      ],
      "text/plain": [
       "    qₐ    \n",
       "5 = ── + 2\n",
       "    3     "
      ]
     },
     "execution_count": 34,
     "metadata": {},
     "output_type": "execute_result"
    }
   ],
   "source": [
    "p_igual_cm_a = Eq(precio_equilibrio, coste_marginal_a)\n",
    "p_igual_cm_a"
   ]
  },
  {
   "cell_type": "code",
   "execution_count": 35,
   "metadata": {},
   "outputs": [
    {
     "data": {
      "image/png": "[encoded data removed]",
      "text/latex": [
       "$$9$$"
      ],
      "text/plain": [
       "9"
      ]
     },
     "execution_count": 35,
     "metadata": {},
     "output_type": "execute_result"
    }
   ],
   "source": [
    "qa_value = solve(p_igual_cm_a)[-1]\n",
    "qa_value"
   ]
  },
  {
   "cell_type": "markdown",
   "metadata": {},
   "source": [
    "El beneficio de las empresas del país $_a$:"
   ]
  },
  {
   "cell_type": "code",
   "execution_count": 36,
   "metadata": {},
   "outputs": [
    {
     "data": {
      "image/png": "[encoded data removed]",
      "text/latex": [
       "$$\\frac{7}{2}$$"
      ],
      "text/plain": [
       "7/2"
      ]
     },
     "execution_count": 36,
     "metadata": {},
     "output_type": "execute_result"
    }
   ],
   "source": [
    "pi_a = precio_equilibrio * qa_value - costes_a.subs(qa, qa_value)\n",
    "pi_a"
   ]
  },
  {
   "cell_type": "markdown",
   "metadata": {},
   "source": [
    "El mismo proceso es el que hay que sesguir con el resto de empresas."
   ]
  },
  {
   "cell_type": "markdown",
   "metadata": {},
   "source": [
    "## RESUMEN DE VARIABLES EN EL EQUILIBRIO"
   ]
  },
  {
   "cell_type": "code",
   "execution_count": 37,
   "metadata": {},
   "outputs": [
    {
     "data": {
      "text/markdown": [
       "\n",
       "|&nbsp;&nbsp;&nbsp;&nbsp;Variables \\ Sector&nbsp;&nbsp;&nbsp;&nbsp;|&nbsp;&nbsp;&nbsp;&nbsp;a&nbsp;&nbsp;&nbsp;&nbsp;|&nbsp;&nbsp;&nbsp;&nbsp;b&nbsp;&nbsp;&nbsp;&nbsp;|&nbsp;&nbsp;&nbsp;&nbsp;c&nbsp;&nbsp;&nbsp;&nbsp;|\n",
       "|:--    |--:|--:|--:|\n",
       "|$q =$  |9|10|5|\n",
       "|$Q =$  |900|500|500|\n",
       "|$\\pi =$|7/2|-2|21/2|\n"
      ],
      "text/plain": [
       "<IPython.core.display.Markdown object>"
      ]
     },
     "metadata": {},
     "output_type": "display_data"
    }
   ],
   "source": [
    "n_empresas = [100, 50, 100]\n",
    "q_i = []\n",
    "Q_i = []\n",
    "b_i = []\n",
    "n_i = []\n",
    "\n",
    "table_fmt = \"\"\"\n",
    "|{sp}Variables \\ Sector{sp}|{sp}a{sp}|{sp}b{sp}|{sp}c{sp}|\n",
    "|:--    |--:|--:|--:|\n",
    "|$q =$  |{q_i}|\n",
    "|$Q =$  |{Q_i}|\n",
    "|$\\pi =$|{b_i}|\n",
    "\"\"\"\n",
    "\n",
    "for i in range(3):\n",
    "    qi = solve(Eq(precio_equilibrio, coste_marginal_list[i]), q_list[i])[-1]\n",
    "    p_igual_cmg = Eq(precio_equilibrio, coste_marginal_list[i])\n",
    "    b = precio_equilibrio * solve(p_igual_cmg, q_list[i])[-1] - coste_list[i].subs(q_list[i], qi)\n",
    "    q_i += [qi]\n",
    "    Q_i += [qi*n_empresas[i]]\n",
    "    b_i += [b]\n",
    "\n",
    "display(\n",
    "    Markdown(\n",
    "        table_fmt.format(\n",
    "            q_i=\"|\".join(map(str,q_i)), \n",
    "            Q_i=\"|\".join(map(str,Q_i)), \n",
    "            b_i=\"|\".join(map(str,b_i)),\n",
    "            sp=\"&nbsp;\"*4\n",
    "        )\n",
    "    ))"
   ]
  },
  {
   "cell_type": "markdown",
   "metadata": {},
   "source": [
    "## Graficamente"
   ]
  },
  {
   "cell_type": "markdown",
   "metadata": {},
   "source": [
    "Despejamos el precio de la oferta para tener la función inversa de demanda:"
   ]
  },
  {
   "cell_type": "code",
   "execution_count": 38,
   "metadata": {},
   "outputs": [
    {
     "data": {
      "image/png": "[encoded data removed]",
      "text/latex": [
       "$$\\frac{Q}{650} + \\frac{27}{13}$$"
      ],
      "text/plain": [
       " Q    27\n",
       "─── + ──\n",
       "650   13"
      ]
     },
     "execution_count": 38,
     "metadata": {},
     "output_type": "execute_result"
    }
   ],
   "source": [
    "p_oferta = solve(Eq(Q, q_oferta_final), P)[-1]\n",
    "p_oferta"
   ]
  },
  {
   "cell_type": "code",
   "execution_count": 39,
   "metadata": {},
   "outputs": [
    {
     "data": {
      "image/png": "[encoded data removed]",
      "text/latex": [
       "$$- \\frac{Q}{19350} + \\frac{1973}{387}$$"
      ],
      "text/plain": [
       "    Q     1973\n",
       "- ───── + ────\n",
       "  19350   387 "
      ]
     },
     "execution_count": 39,
     "metadata": {},
     "output_type": "execute_result"
    }
   ],
   "source": [
    "p_dda"
   ]
  },
  {
   "cell_type": "code",
   "execution_count": 40,
   "metadata": {},
   "outputs": [
    {
     "data": {
      "image/png": "[encoded data removed]",
      "text/plain": [
       "<Figure size 432x288 with 1 Axes>"
      ]
     },
     "metadata": {},
     "output_type": "display_data"
    }
   ],
   "source": [
    "limits = (Q, 0, q_equilibrio*1.2)\n",
    "plot(p_dda, p_oferta, limits);"
   ]
  }
 ],
 "metadata": {
  "kernelspec": {
   "display_name": "Python 3",
   "language": "python",
   "name": "python3"
  },
  "language_info": {
   "codemirror_mode": {
    "name": "ipython",
    "version": 3
   },
   "file_extension": ".py",
   "mimetype": "text/x-python",
   "name": "python",
   "nbconvert_exporter": "python",
   "pygments_lexer": "ipython3",
   "version": "3.7.2"
  }
 },
 "nbformat": 4,
 "nbformat_minor": 2
}
