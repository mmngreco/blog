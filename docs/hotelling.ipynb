{
 "cells": [
  {
   "cell_type": "markdown",
   "metadata": {},
   "source": [
    "# La ley de Hotelling"
   ]
  },
  {
   "cell_type": "code",
   "execution_count": null,
   "metadata": {},
   "outputs": [],
   "source": [
    "from IPython.display import IFrame"
   ]
  },
  {
   "cell_type": "code",
   "execution_count": 9,
   "metadata": {
    "scrolled": true
   },
   "outputs": [
    {
     "data": {
      "text/html": [
       "\n",
       "        <iframe\n",
       "            width=\"600\"\n",
       "            height=\"300\"\n",
       "            src=\"https://en.m.wikipedia.org/wiki/Hotelling%27s_law\"\n",
       "            frameborder=\"0\"\n",
       "            allowfullscreen\n",
       "        ></iframe>\n",
       "        "
      ],
      "text/plain": [
       "<IPython.lib.display.IFrame at 0x10e9b46d8>"
      ]
     },
     "execution_count": 9,
     "metadata": {},
     "output_type": "execute_result"
    }
   ],
   "source": [
    "IFrame(\"https://en.m.wikipedia.org/wiki/Hotelling%27s_law\", width=600, height=300)\n"
   ]
  },
  {
   "cell_type": "code",
   "execution_count": 16,
   "metadata": {},
   "outputs": [
    {
     "data": {
      "text/html": [
       "\n",
       "        <iframe\n",
       "            width=\"600\"\n",
       "            height=\"300\"\n",
       "            src=\"https://en.m.wikipedia.org/wiki/Location_model\"\n",
       "            frameborder=\"0\"\n",
       "            allowfullscreen\n",
       "        ></iframe>\n",
       "        "
      ],
      "text/plain": [
       "<IPython.lib.display.IFrame at 0x126f029b0>"
      ]
     },
     "execution_count": 16,
     "metadata": {},
     "output_type": "execute_result"
    }
   ],
   "source": [
    "IFrame(\"https://en.m.wikipedia.org/wiki/Location_model\", width=600, height=300)"
   ]
  },
  {
   "cell_type": "markdown",
   "metadata": {},
   "source": [
    "# Hotelling con 4 jugadores"
   ]
  },
  {
   "cell_type": "code",
   "execution_count": 10,
   "metadata": {},
   "outputs": [],
   "source": [
    "%matplotlib inline\n",
    "import pandas as pd\n",
    "import numpy as np\n",
    "import matplotlib.pyplot as plt\n",
    "import seaborn as sns"
   ]
  },
  {
   "cell_type": "code",
   "execution_count": 11,
   "metadata": {},
   "outputs": [],
   "source": [
    "def calc_profits(df, space):\n",
    "    \"\"\"Calcula el beneficio\"\"\"\n",
    "\n",
    "    try:\n",
    "        lastcol = df.columns[-1]  # last game\n",
    "        df = df[lastcol].copy()  # change dataframe to serie\n",
    "    except:\n",
    "        df = df.copy()\n",
    "\n",
    "    # IF EACH FACTORY ARE ALONE\n",
    "    if len(df.rank().unique()) == 4:  # Each player on different space\n",
    "        df = df.sort_values()  # Values ordered, so index get useful\n",
    "        profits = df.copy()    # make profits variable as a copy, modify after\n",
    "\n",
    "        profits.iloc[0] = (df.iloc[0] + df.iloc[1]) / 2\n",
    "        profits.iloc[1] = (df.iloc[2] - df.iloc[0]) / 2\n",
    "        profits.iloc[2] = (df.iloc[3] - df.iloc[1]) / 2\n",
    "        profits.iloc[3] = (2 * space - df.iloc[3] - df.iloc[2]) / 2\n",
    "        return profits\n",
    "\n",
    "    # IF TWO FACTORY ARE TOGETHER\n",
    "    elif len(df.rank().unique()) == 3:  # Only two players on the same space\n",
    "        df = df.sort_values()\n",
    "        profits = df.copy()\n",
    "        uniques = df.unique()  # get unique values\n",
    "        ns = [2 * len(df[df == v]) for v in uniques]  # number of factories at the same place\n",
    "        n1, n2, n3 = [df[df == v].index for v in uniques]  # name of one factory for each group\n",
    "\n",
    "        profits.loc[n1] = (df.loc[n1].values[0] + df.loc[n2].values[0]) / ns[0]\n",
    "        profits.loc[n2] = (df.loc[n3].values[0] - df.loc[n1].values[0]) / ns[1]\n",
    "        profits.loc[n3] = (2 * space - df.loc[n3].values[0] - df.loc[n2].values[0]) / ns[2]\n",
    "        return profits\n",
    "\n",
    "    # IF TWO FACTORY ARE IN TWO GROUPS\n",
    "    elif len(df.rank().unique()) == 2:\n",
    "        df = df.sort_values()\n",
    "        profits = df.copy()\n",
    "        uniques = df.unique()  # get unique values\n",
    "        n1, n2 = [df[df == v].index for v in uniques]  # name of one factory for each group\n",
    "\n",
    "        profits.loc[n1] = (df.loc[n1].values[0] + df.loc[n2].values[0]) / 4\n",
    "        profits.loc[n2] = (2 * space - df.loc[n2].values[0] - df.loc[n1].values[0]) / 4\n",
    "        return profits\n",
    "\n",
    "\n",
    "def new_game(df, space):\n",
    "\n",
    "    import pandas as pd\n",
    "    import numpy as np\n",
    "\n",
    "    lastcol = df.columns[-1]\n",
    "    space_ini = df[lastcol].copy()\n",
    "    res = space_ini.copy()\n",
    "    names = space_ini.index\n",
    "\n",
    "    prof_ini = calc_profits(space_ini.copy(), space)\n",
    "    step = 1\n",
    "\n",
    "    f = open('log.txt', 'a')\n",
    "    br = '\\n'\n",
    "    splt = '=' * 30\n",
    "    str_game = \"# GAME Nº %s\" % (lastcol)\n",
    "\n",
    "    for name in names:\n",
    "\n",
    "        space_sum = space_ini.copy()\n",
    "        space_sum[name] = space_sum[name] + step\n",
    "        prof_sum = calc_profits(space_sum, space)\n",
    "\n",
    "        space_subs = space_ini.copy()\n",
    "        space_subs[name] = space_subs[name] - step\n",
    "        prof_subs = calc_profits(space_subs, space)\n",
    "\n",
    "        if space_subs[name] <= 0:\n",
    "            space_subs[name] = 0\n",
    "\n",
    "        elif space_sum[name] >= space:\n",
    "            space_sum[name] = space\n",
    "        \n",
    "        data = [prof_sum[name],prof_subs[name],prof_ini[name]]\n",
    "        compar_profs = pd.Series(data=data,index=[\"sum\", \"subs\", \"ini\"])\n",
    "        best = compar_profs[compar_profs == compar_profs.max()].index[0]\n",
    "\n",
    "        if len(compar_profs.unique()) == 1:\n",
    "            best = \"ini\"\n",
    "        elif all(compar_profs - compar_profs['ini'] <= 0.4):\n",
    "            compar_profs - compar_profs['ini']\n",
    "            compar_profs - compar_profs['ini'] <= 0.4\n",
    "            best = \"ini\"\n",
    "\n",
    "        store_spaces = {\"sum\": space_sum,\n",
    "                        \"subs\": space_subs,\n",
    "                        \"ini\": space_ini}\n",
    "\n",
    "        res[name] = store_spaces[best][name]\n",
    "    return res"
   ]
  },
  {
   "cell_type": "code",
   "execution_count": 12,
   "metadata": {},
   "outputs": [],
   "source": [
    "space = 100\n",
    "df = pd.DataFrame(index=(\"x1\", \"x2\", \"x3\", \"x4\"))\n",
    "df[0] = np.linspace(0, space-20, 4)\n",
    "\n",
    "games = 100\n",
    "for g in range(1, games + 1):\n",
    "    df[g] = new_game(df, space)\n",
    "    "
   ]
  },
  {
   "cell_type": "code",
   "execution_count": 13,
   "metadata": {},
   "outputs": [
    {
     "data": {
      "text/plain": [
       "(0, 100)"
      ]
     },
     "execution_count": 13,
     "metadata": {},
     "output_type": "execute_result"
    },
    {
     "data": {
      "image/png": "[encoded data removed]",
      "text/plain": [
       "<Figure size 432x288 with 1 Axes>"
      ]
     },
     "metadata": {
      "needs_background": "light"
     },
     "output_type": "display_data"
    }
   ],
   "source": [
    "df.T.plot()\n",
    "plt.xlabel(\"Games\")\n",
    "plt.ylabel(\"Space\")\n",
    "sns.despine()\n",
    "plt.ylim(0,100)"
   ]
  },
  {
   "cell_type": "code",
   "execution_count": 14,
   "metadata": {},
   "outputs": [
    {
     "data": {
      "text/plain": [
       "x1    25.000000\n",
       "x2    24.666667\n",
       "x3    74.333333\n",
       "x4    75.000000\n",
       "Name: 100, dtype: float64"
      ]
     },
     "execution_count": 14,
     "metadata": {},
     "output_type": "execute_result"
    }
   ],
   "source": [
    "df.iloc[:,-1]"
   ]
  },
  {
   "cell_type": "code",
   "execution_count": null,
   "metadata": {},
   "outputs": [],
   "source": []
  }
 ],
 "metadata": {
  "kernelspec": {
   "display_name": "Python 3",
   "language": "python",
   "name": "python3"
  },
  "language_info": {
   "codemirror_mode": {
    "name": "ipython",
    "version": 3
   },
   "file_extension": ".py",
   "mimetype": "text/x-python",
   "name": "python",
   "nbconvert_exporter": "python",
   "pygments_lexer": "ipython3",
   "version": "3.7.2"
  }
 },
 "nbformat": 4,
 "nbformat_minor": 2
}
